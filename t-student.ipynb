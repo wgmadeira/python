# RESOLUÇÃO EM PYTHON
# Distribuição t-Student

import math
n = float (input('Informe o NUMERO de amostras:'))
gl= n-1 # Grau de liberdade
nconf = float (input('Informe o nivel de confiança:'))
s = int (input('Informe o desvio padrão:'))
u = int (input('Informe a média:'))
a = 1-nconf
a =  round(a/2,3) # Alfa
print ('Encontre na tabela T o cruzamento de gl {} com {} '. format (gl, a))
t= float (input('Informe o Valor crítico do cruzamento de gl:'))
print ('Valor crítico:',t)
E = round((t * (s/( math.sqrt(n)))),4) # MARGEM DE ERRO
print ('Margem de erro:',E)
IC1 = u - E # Intervalo de Confiança menos a MARGEM DE ERRO
IC2 = u + E # Intervalo de Confiança mais a MARGEM DE ERRO
print ('Intervalo de confiança {} : {}'.format (IC1, IC2))
